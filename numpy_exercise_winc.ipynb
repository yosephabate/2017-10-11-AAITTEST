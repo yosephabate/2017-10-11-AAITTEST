{
  "nbformat": 4,
  "nbformat_minor": 0,
  "metadata": {
    "colab": {
      "name": "numpy_exercise_winc.ipynb",
      "provenance": [],
      "collapsed_sections": [],
      "authorship_tag": "ABX9TyNA8jP+Cnm6zpmi/WH2qGnW",
      "include_colab_link": true
    },
    "kernelspec": {
      "name": "python3",
      "display_name": "Python 3"
    },
    "language_info": {
      "name": "python"
    }
  },
  "cells": [
    {
      "cell_type": "markdown",
      "metadata": {
        "id": "view-in-github",
        "colab_type": "text"
      },
      "source": [
        "<a href=\"https://colab.research.google.com/github/yosephabate/2017-10-11-AAITTEST/blob/gh-pages/numpy_exercise_winc.ipynb\" target=\"_parent\"><img src=\"https://colab.research.google.com/assets/colab-badge.svg\" alt=\"Open In Colab\"/></a>"
      ]
    },
    {
      "cell_type": "code",
      "metadata": {
        "id": "yrbJGuh4dPDw"
      },
      "source": [
        "import numpy as np\n",
        "from numpy.random import default_rng"
      ],
      "execution_count": 1,
      "outputs": []
    },
    {
      "cell_type": "code",
      "metadata": {
        "id": "Xp-ZHDWCdkQa"
      },
      "source": [
        "rng = default_rng(1234)"
      ],
      "execution_count": 2,
      "outputs": []
    },
    {
      "cell_type": "code",
      "metadata": {
        "id": "qmQU5yyqdsPi"
      },
      "source": [
        "mystery_array = (rng.integers(low=0, high=500, size=216)*\n",
        "                 rng.integers(low=0, high=500, size=216))"
      ],
      "execution_count": 3,
      "outputs": []
    },
    {
      "cell_type": "code",
      "metadata": {
        "colab": {
          "base_uri": "https://localhost:8080/"
        },
        "id": "zD8rubKdeAxU",
        "outputId": "6eba0b8e-cb6f-44ae-fbbf-f38947a74362"
      },
      "source": [
        "mystery_array.size"
      ],
      "execution_count": 5,
      "outputs": [
        {
          "output_type": "execute_result",
          "data": {
            "text/plain": [
              "216"
            ]
          },
          "metadata": {},
          "execution_count": 5
        }
      ]
    },
    {
      "cell_type": "code",
      "metadata": {
        "id": "0lyrTAeUeC99"
      },
      "source": [
        "mystery_array = mystery_array.reshape(6, 6, 6)"
      ],
      "execution_count": 6,
      "outputs": []
    },
    {
      "cell_type": "code",
      "metadata": {
        "colab": {
          "base_uri": "https://localhost:8080/"
        },
        "id": "4C9cdMuiebeM",
        "outputId": "af780a4f-2f43-4624-a391-a68f0b40945a"
      },
      "source": [
        "mystery_array.shape"
      ],
      "execution_count": 7,
      "outputs": [
        {
          "output_type": "execute_result",
          "data": {
            "text/plain": [
              "(6, 6, 6)"
            ]
          },
          "metadata": {},
          "execution_count": 7
        }
      ]
    },
    {
      "cell_type": "code",
      "metadata": {
        "colab": {
          "base_uri": "https://localhost:8080/"
        },
        "id": "04vZ9JE2eeIK",
        "outputId": "d90c8319-213a-44f5-baf6-dc5669c9085e"
      },
      "source": [
        "mystery_array"
      ],
      "execution_count": 8,
      "outputs": [
        {
          "output_type": "execute_result",
          "data": {
            "text/plain": [
              "array([[[116382, 151768, 171071,  29830,  35020,  63618],\n",
              "        [  1352,  60320,  33810,  22101,   5628,  27966],\n",
              "        [  9131,  12120, 111612,  44838, 147312,  91580],\n",
              "        [ 43110,  52924,  44320,  13860,  24257, 144400],\n",
              "        [204288, 156884,  96922,  37497, 121471, 116602],\n",
              "        [228960,  15134,   1173, 102026, 128781,   5661]],\n",
              "\n",
              "       [[106518,   1806, 121746,  85260, 117608,  10350],\n",
              "        [ 19683, 123783,   7100, 111890,  27945,  89975],\n",
              "        [ 17810,  13170,  37736, 130784,  76983,  10512],\n",
              "        [106672,  18620,    768,    481,  69874,  49875],\n",
              "        [ 34768,   1287,  80625, 100064,    870, 120009],\n",
              "        [ 24081, 209755, 174924,   5776, 168019, 145824]],\n",
              "\n",
              "       [[ 17444,  22841,  75650,  40420, 215254,   1333],\n",
              "        [ 12292,  77688,  25585,   6210, 197976,  16660],\n",
              "        [ 76760, 111538, 138240, 146888,  54120,  59220],\n",
              "        [ 98792,  94304, 144774,  82695, 117312,  87001],\n",
              "        [   724,  21298,   9906,   3277, 216480,   6700],\n",
              "        [ 17000,  22326,  41976,  13664,  45820,  40280]],\n",
              "\n",
              "       [[140946, 215688,  35728,  34125,  11398, 116820],\n",
              "        [ 22140, 100092, 120600,  60053,   2041,  40565],\n",
              "        [122200,  36208,  18600,  57462,   4536,   6060],\n",
              "        [ 90558,  20378,   5412,   3528,  35321,  81152],\n",
              "        [150410, 147798, 121023,    980,  14278,  82716],\n",
              "        [ 49250,  83740, 142600, 123500, 189525,    120]],\n",
              "\n",
              "       [[ 63036,  42800,    630,  44928,   6357,  48280],\n",
              "        [ 41202,  12740, 153012,   7335,  22320,  35937],\n",
              "        [ 25868, 101016,  44444,  44520,  11024,  18564],\n",
              "        [  3652,  44330,  14945,  74460,  21750,  21440],\n",
              "        [ 28602, 150570,   2516,    272,  71149,  43780],\n",
              "        [  6624,  26892, 149100,  16720, 154912,  43290]],\n",
              "\n",
              "       [[229432, 209620,  22532,  25004, 194740,  14174],\n",
              "        [ 39856,     16,  70422,  92920,  24308, 175708],\n",
              "        [116518,   4725, 207887,  20139,  28912, 130548],\n",
              "        [102102,  12573,  73094,  54020,  10287, 105369],\n",
              "        [ 92140,  57150,  84420,  26013,  75468,  28899],\n",
              "        [ 70336,   5320,   7040, 156065,  11155,  25668]]])"
            ]
          },
          "metadata": {},
          "execution_count": 8
        }
      ]
    },
    {
      "cell_type": "code",
      "metadata": {
        "colab": {
          "base_uri": "https://localhost:8080/"
        },
        "id": "f9JyHaS1eh-B",
        "outputId": "081962a2-ed7d-4993-aca7-05c0160b7038"
      },
      "source": [
        "mystery_array.shape"
      ],
      "execution_count": 9,
      "outputs": [
        {
          "output_type": "execute_result",
          "data": {
            "text/plain": [
              "(6, 6, 6)"
            ]
          },
          "metadata": {},
          "execution_count": 9
        }
      ]
    },
    {
      "cell_type": "code",
      "metadata": {
        "colab": {
          "base_uri": "https://localhost:8080/"
        },
        "id": "4W_3mGbVe_Bb",
        "outputId": "619f338b-2b1e-4272-f91c-fe456abd7279"
      },
      "source": [
        "mystery_array.size"
      ],
      "execution_count": 10,
      "outputs": [
        {
          "output_type": "execute_result",
          "data": {
            "text/plain": [
              "216"
            ]
          },
          "metadata": {},
          "execution_count": 10
        }
      ]
    },
    {
      "cell_type": "code",
      "metadata": {
        "colab": {
          "base_uri": "https://localhost:8080/"
        },
        "id": "WbzkrD61fAkO",
        "outputId": "c32ba0de-7f1b-4a52-dd25-dd33cdc6bc53"
      },
      "source": [
        "mystery_array.ndim"
      ],
      "execution_count": 11,
      "outputs": [
        {
          "output_type": "execute_result",
          "data": {
            "text/plain": [
              "3"
            ]
          },
          "metadata": {},
          "execution_count": 11
        }
      ]
    },
    {
      "cell_type": "code",
      "metadata": {
        "colab": {
          "base_uri": "https://localhost:8080/"
        },
        "id": "4XWXTrm0fEYp",
        "outputId": "b439c416-cab3-4320-8a5c-e8f63e5b6205"
      },
      "source": [
        "type(mystery_array)"
      ],
      "execution_count": 12,
      "outputs": [
        {
          "output_type": "execute_result",
          "data": {
            "text/plain": [
              "numpy.ndarray"
            ]
          },
          "metadata": {},
          "execution_count": 12
        }
      ]
    },
    {
      "cell_type": "code",
      "metadata": {
        "colab": {
          "base_uri": "https://localhost:8080/"
        },
        "id": "TV76xsGBfPr5",
        "outputId": "44a60390-24a8-4b40-8e1d-3ba040051275"
      },
      "source": [
        "mystery_array[0, 0, 0] # mystery_array[0][0][0]"
      ],
      "execution_count": 13,
      "outputs": [
        {
          "output_type": "execute_result",
          "data": {
            "text/plain": [
              "116382"
            ]
          },
          "metadata": {},
          "execution_count": 13
        }
      ]
    },
    {
      "cell_type": "code",
      "metadata": {
        "colab": {
          "base_uri": "https://localhost:8080/"
        },
        "id": "bVudOn-Kffvt",
        "outputId": "e9284044-02be-4769-cb5f-fd4493d4221d"
      },
      "source": [
        "mystery_array[5, 5, 5]"
      ],
      "execution_count": 15,
      "outputs": [
        {
          "output_type": "execute_result",
          "data": {
            "text/plain": [
              "25668"
            ]
          },
          "metadata": {},
          "execution_count": 15
        }
      ]
    },
    {
      "cell_type": "code",
      "metadata": {
        "colab": {
          "base_uri": "https://localhost:8080/"
        },
        "id": "wscy-mhYfmrW",
        "outputId": "2bfb77ac-1017-48c3-dad0-85d3b82c9950"
      },
      "source": [
        "mystery_array[2, 5, 2]"
      ],
      "execution_count": 19,
      "outputs": [
        {
          "output_type": "execute_result",
          "data": {
            "text/plain": [
              "41976"
            ]
          },
          "metadata": {},
          "execution_count": 19
        }
      ]
    },
    {
      "cell_type": "code",
      "metadata": {
        "colab": {
          "base_uri": "https://localhost:8080/"
        },
        "id": "xUhxRWbdgSTq",
        "outputId": "8a173f82-208b-44a9-a377-16abb0521953"
      },
      "source": [
        "mystery_array[4, 5, :]"
      ],
      "execution_count": 26,
      "outputs": [
        {
          "output_type": "execute_result",
          "data": {
            "text/plain": [
              "array([  6624,  26892, 149100,  16720, 154912,  43290])"
            ]
          },
          "metadata": {},
          "execution_count": 26
        }
      ]
    },
    {
      "cell_type": "code",
      "metadata": {
        "colab": {
          "base_uri": "https://localhost:8080/"
        },
        "id": "mERJxeafhCq_",
        "outputId": "98e62583-109e-4014-9c3a-84246f6c5ab2"
      },
      "source": [
        "mystery_array[0, 2, 3:]"
      ],
      "execution_count": 22,
      "outputs": [
        {
          "output_type": "execute_result",
          "data": {
            "text/plain": [
              "array([ 44838, 147312,  91580])"
            ]
          },
          "metadata": {},
          "execution_count": 22
        }
      ]
    },
    {
      "cell_type": "code",
      "metadata": {
        "colab": {
          "base_uri": "https://localhost:8080/"
        },
        "id": "Nr1OXRfkhZH9",
        "outputId": "e06bb745-41ee-4dfe-c84c-ee3d8a8889a3"
      },
      "source": [
        "mystery_array[4, :, 4]"
      ],
      "execution_count": 23,
      "outputs": [
        {
          "output_type": "execute_result",
          "data": {
            "text/plain": [
              "array([  6357,  22320,  11024,  21750,  71149, 154912])"
            ]
          },
          "metadata": {},
          "execution_count": 23
        }
      ]
    },
    {
      "cell_type": "code",
      "metadata": {
        "colab": {
          "base_uri": "https://localhost:8080/"
        },
        "id": "U12wjB08htds",
        "outputId": "a8720047-8482-4ff2-82a7-db5649ba52ba"
      },
      "source": [
        "mystery_array[4, :, 4].shape"
      ],
      "execution_count": 24,
      "outputs": [
        {
          "output_type": "execute_result",
          "data": {
            "text/plain": [
              "(6,)"
            ]
          },
          "metadata": {},
          "execution_count": 24
        }
      ]
    },
    {
      "cell_type": "code",
      "metadata": {
        "id": "jklbqAqihyxL"
      },
      "source": [
        ""
      ],
      "execution_count": null,
      "outputs": []
    }
  ]
}